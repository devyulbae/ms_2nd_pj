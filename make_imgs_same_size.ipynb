{
 "cells": [
  {
   "cell_type": "code",
   "execution_count": 1,
   "metadata": {},
   "outputs": [
    {
     "name": "stdout",
     "output_type": "stream",
     "text": [
      "The smallest image size in the folder is: (300, 225)\n"
     ]
    }
   ],
   "source": [
    "from PIL import Image\n",
    "import os\n",
    "\n",
    "def find_smallest_image_size(folder_path):\n",
    "    # 초기값 설정 (가로, 세로의 큰 값으로)\n",
    "    min_width, min_height = float('inf'), float('inf')\n",
    "\n",
    "    # 폴더 내의 모든 파일을 순회\n",
    "    for filename in os.listdir(folder_path):\n",
    "        file_path = os.path.join(folder_path, filename)\n",
    "        try:\n",
    "            with Image.open(file_path) as img:\n",
    "                width, height = img.size\n",
    "                # 최소 크기 갱신\n",
    "                if width < min_width:\n",
    "                    min_width = width\n",
    "                if height < min_height:\n",
    "                    min_height = height\n",
    "        except Exception as e:\n",
    "            print(f\"Error processing file {file_path}: {e}\")\n",
    "\n",
    "    return min_width, min_height\n",
    "\n",
    "# 'images' 폴더에 대해 실행\n",
    "smallest_size = find_smallest_image_size('images')\n",
    "print(f\"The smallest image size in the folder is: {smallest_size}\")\n"
   ]
  },
  {
   "cell_type": "code",
   "execution_count": 1,
   "metadata": {},
   "outputs": [
    {
     "name": "stdout",
     "output_type": "stream",
     "text": [
      "Saved resized image: images\\res_66.jpg\n"
     ]
    }
   ],
   "source": [
    "from PIL import Image\n",
    "import os\n",
    "\n",
    "def resize_images(folder_path, output_folder, target_size):\n",
    "    # output_folder가 없으면 생성\n",
    "    if not os.path.exists(output_folder):\n",
    "        os.makedirs(output_folder)\n",
    "\n",
    "    # 폴더 내의 모든 파일을 순회\n",
    "    for filename in os.listdir(folder_path):\n",
    "        file_path = os.path.join(folder_path, filename)\n",
    "        try:\n",
    "            with Image.open(file_path) as img:\n",
    "                # 이미지 리사이즈\n",
    "                img_resized = img.resize(target_size, Image.LANCZOS)\n",
    "\n",
    "                # 새로운 파일 경로 설정\n",
    "                new_file_path = os.path.join(output_folder, filename)\n",
    "                \n",
    "                # 새로운 폴더에 이미지 저장\n",
    "                img_resized.save(new_file_path)\n",
    "                print(f\"Saved resized image: {new_file_path}\")\n",
    "\n",
    "        except Exception as e:\n",
    "            print(f\"Error processing file {file_path}: {e}\")\n",
    "\n",
    "# 'images' 폴더에서 이미지를 리사이즈하여 'resize_img_2' 폴더에 저장\n",
    "resize_images('new_images', 'images', (300, 225))\n"
   ]
  }
 ],
 "metadata": {
  "kernelspec": {
   "display_name": "Python 3",
   "language": "python",
   "name": "python3"
  },
  "language_info": {
   "codemirror_mode": {
    "name": "ipython",
    "version": 3
   },
   "file_extension": ".py",
   "mimetype": "text/x-python",
   "name": "python",
   "nbconvert_exporter": "python",
   "pygments_lexer": "ipython3",
   "version": "3.8.10"
  }
 },
 "nbformat": 4,
 "nbformat_minor": 2
}
